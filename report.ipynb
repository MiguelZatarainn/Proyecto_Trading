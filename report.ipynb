{
 "cells": [
  {
   "cell_type": "markdown",
   "id": "c6200639",
   "metadata": {},
   "source": [
    "## 2nd Project"
   ]
  },
  {
   "cell_type": "markdown",
   "id": "b33bca32",
   "metadata": {},
   "source": [
    "HOLA PUTOS"
   ]
  },
  {
   "cell_type": "code",
   "execution_count": 1,
   "id": "73166c7a",
   "metadata": {},
   "outputs": [],
   "source": [
    "import pandas as pd\n",
    "import numpy as np\n",
    "import matplotlib.pyplot as plt\n",
    "import ta\n",
    "\n",
    "data = pd.read_csv('data/aapl_5m_train.csv')\n",
    "\n",
    "data = data.dropna()\n",
    "\n",
    "rsi_data = ta.momentum.RSIIndicator(close = data.Close, window= 14)\n",
    "data['RSI'] = rsi_data.rsi()\n",
    "\n",
    "short_ma  = ta.trend.SMAIndicator(data.Close, window=5)\n",
    "long_ma  = ta.trend.SMAIndicator(data.Close, window=21)\n",
    "data[\"SHORT_SMA\"] = short_ma.sma_indicator()\n",
    "data[\"LONG_SMA\"] = long_ma.sma_indicator()\n",
    "\n",
    "macd = ta.trend.MACD(close=data['Close'], window_slow=26, window_fast=12, window_sign=9)\n",
    "data['MACD'] = macd.macd()\n",
    "data['Signal_Line'] = macd.macd_signal()\n",
    "\n",
    "data['SAR'] = ta.trend.PSARIndicator(data['High'], data['Low'], data['Close'], step=0.02, max_step=0.2).psar()\n",
    "\n",
    "adx_indicator = ta.trend.ADXIndicator(high=data['High'], low=data['Low'], close=data['Close'], window=14)\n",
    "data['ADX'] = adx_indicator.adx()\n",
    "data['+DI'] = adx_indicator.adx_pos()\n",
    "data['-DI'] = adx_indicator.adx_neg()\n",
    "data['prev_DI+'] = data['+DI'].shift(1)\n",
    "data['prev_DI-'] = data['-DI'].shift(1)\n",
    "\n",
    "data = data.dropna()"
   ]
  },
  {
   "cell_type": "code",
   "execution_count": 22,
   "id": "f70f7ba9",
   "metadata": {},
   "outputs": [
    {
     "name": "stdout",
     "output_type": "stream",
     "text": [
      "Help on class combinations in module itertools:\n",
      "\n",
      "class combinations(builtins.object)\n",
      " |  combinations(iterable, r)\n",
      " |  \n",
      " |  Return successive r-length combinations of elements in the iterable.\n",
      " |  \n",
      " |  combinations(range(4), 3) --> (0,1,2), (0,1,3), (0,2,3), (1,2,3)\n",
      " |  \n",
      " |  Methods defined here:\n",
      " |  \n",
      " |  __getattribute__(self, name, /)\n",
      " |      Return getattr(self, name).\n",
      " |  \n",
      " |  __iter__(self, /)\n",
      " |      Implement iter(self).\n",
      " |  \n",
      " |  __next__(self, /)\n",
      " |      Implement next(self).\n",
      " |  \n",
      " |  __reduce__(...)\n",
      " |      Return state information for pickling.\n",
      " |  \n",
      " |  __setstate__(...)\n",
      " |      Set state information for unpickling.\n",
      " |  \n",
      " |  __sizeof__(...)\n",
      " |      Returns size in memory, in bytes.\n",
      " |  \n",
      " |  ----------------------------------------------------------------------\n",
      " |  Static methods defined here:\n",
      " |  \n",
      " |  __new__(*args, **kwargs) from builtins.type\n",
      " |      Create and return a new object.  See help(type) for accurate signature.\n",
      "\n"
     ]
    }
   ],
   "source": [
    "import itertools\n",
    "\n",
    "help(itertools.combinations)"
   ]
  },
  {
   "cell_type": "code",
   "execution_count": 2,
   "id": "d2a96237",
   "metadata": {},
   "outputs": [
    {
     "data": {
      "text/plain": [
       "Unnamed: 0      0\n",
       "Timestamp       0\n",
       "Gmtoffset       0\n",
       "Datetime        0\n",
       "Open            4\n",
       "High            4\n",
       "Low             4\n",
       "Close           4\n",
       "Volume        419\n",
       "dtype: int64"
      ]
     },
     "execution_count": 2,
     "metadata": {},
     "output_type": "execute_result"
    }
   ],
   "source": [
    "data = pd.read_csv('data/aapl_5m_train.csv')\n",
    "data.isna().sum()"
   ]
  },
  {
   "cell_type": "code",
   "execution_count": 3,
   "id": "cec1bd77",
   "metadata": {},
   "outputs": [
    {
     "data": {
      "text/plain": [
       "Unnamed: 0        0\n",
       "Timestamp         0\n",
       "Gmtoffset         0\n",
       "Datetime          0\n",
       "Open              4\n",
       "High              4\n",
       "Low               4\n",
       "Close             4\n",
       "Volume          419\n",
       "ADX           27510\n",
       "+DI           27510\n",
       "-DI           27510\n",
       "prev_DI+      27510\n",
       "prev_DI-      27510\n",
       "dtype: int64"
      ]
     },
     "execution_count": 3,
     "metadata": {},
     "output_type": "execute_result"
    }
   ],
   "source": [
    "data = pd.read_csv('data/aapl_5m_train.csv')\n",
    "\n",
    "\n",
    "adx_indicator = ta.trend.ADXIndicator(high=data['High'], low=data['Low'], close=data['Close'], window=14)\n",
    "data['ADX'] = adx_indicator.adx()\n",
    "data['+DI'] = adx_indicator.adx_pos()\n",
    "data['-DI'] = adx_indicator.adx_neg()\n",
    "data['prev_DI+'] = data['+DI'].shift(1)\n",
    "data['prev_DI-'] = data['-DI'].shift(1)\n",
    "data.isna().sum()"
   ]
  },
  {
   "cell_type": "code",
   "execution_count": 4,
   "id": "75952094",
   "metadata": {},
   "outputs": [
    {
     "data": {
      "text/plain": [
       "Unnamed: 0    0\n",
       "Timestamp     0\n",
       "Gmtoffset     0\n",
       "Datetime      0\n",
       "Open          0\n",
       "High          0\n",
       "Low           0\n",
       "Close         0\n",
       "Volume        0\n",
       "ADX           0\n",
       "+DI           0\n",
       "-DI           0\n",
       "prev_DI+      1\n",
       "prev_DI-      1\n",
       "dtype: int64"
      ]
     },
     "execution_count": 4,
     "metadata": {},
     "output_type": "execute_result"
    }
   ],
   "source": [
    "data = pd.read_csv('data/aapl_5m_train.csv')\n",
    "data = data.dropna()\n",
    "\n",
    "\n",
    "adx_indicator = ta.trend.ADXIndicator(high=data['High'], low=data['Low'], close=data['Close'], window=14)\n",
    "data['ADX'] = adx_indicator.adx()\n",
    "data['+DI'] = adx_indicator.adx_pos()\n",
    "data['-DI'] = adx_indicator.adx_neg()\n",
    "data['prev_DI+'] = data['+DI'].shift(1)\n",
    "data['prev_DI-'] = data['-DI'].shift(1)\n",
    "data.isna().sum()"
   ]
  },
  {
   "cell_type": "code",
   "execution_count": 5,
   "id": "be18f2b5",
   "metadata": {},
   "outputs": [
    {
     "data": {
      "text/plain": [
       "39160"
      ]
     },
     "execution_count": 5,
     "metadata": {},
     "output_type": "execute_result"
    }
   ],
   "source": [
    "len(data)  #only RSI"
   ]
  },
  {
   "cell_type": "code",
   "execution_count": 6,
   "id": "67650e84",
   "metadata": {},
   "outputs": [
    {
     "data": {
      "text/plain": [
       "39160"
      ]
     },
     "execution_count": 6,
     "metadata": {},
     "output_type": "execute_result"
    }
   ],
   "source": [
    "len(data)  #only SMA"
   ]
  },
  {
   "cell_type": "code",
   "execution_count": 7,
   "id": "0d729934",
   "metadata": {},
   "outputs": [
    {
     "data": {
      "text/plain": [
       "39160"
      ]
     },
     "execution_count": 7,
     "metadata": {},
     "output_type": "execute_result"
    }
   ],
   "source": [
    "len(data ) #only MACD"
   ]
  },
  {
   "cell_type": "code",
   "execution_count": 8,
   "id": "d478da70",
   "metadata": {},
   "outputs": [
    {
     "data": {
      "text/plain": [
       "39160"
      ]
     },
     "execution_count": 8,
     "metadata": {},
     "output_type": "execute_result"
    }
   ],
   "source": [
    "len(data ) #only SAR"
   ]
  },
  {
   "cell_type": "code",
   "execution_count": 9,
   "id": "e172585d",
   "metadata": {},
   "outputs": [
    {
     "data": {
      "text/plain": [
       "39160"
      ]
     },
     "execution_count": 9,
     "metadata": {},
     "output_type": "execute_result"
    }
   ],
   "source": [
    "len(data ) #only ADX"
   ]
  },
  {
   "cell_type": "code",
   "execution_count": 10,
   "id": "d6ab4cfa",
   "metadata": {},
   "outputs": [
    {
     "data": {
      "text/plain": [
       "39160"
      ]
     },
     "execution_count": 10,
     "metadata": {},
     "output_type": "execute_result"
    }
   ],
   "source": [
    "len(data) #all"
   ]
  },
  {
   "cell_type": "code",
   "execution_count": 11,
   "id": "6a1724d2",
   "metadata": {},
   "outputs": [
    {
     "data": {
      "text/html": [
       "<div>\n",
       "<style scoped>\n",
       "    .dataframe tbody tr th:only-of-type {\n",
       "        vertical-align: middle;\n",
       "    }\n",
       "\n",
       "    .dataframe tbody tr th {\n",
       "        vertical-align: top;\n",
       "    }\n",
       "\n",
       "    .dataframe thead th {\n",
       "        text-align: right;\n",
       "    }\n",
       "</style>\n",
       "<table border=\"1\" class=\"dataframe\">\n",
       "  <thead>\n",
       "    <tr style=\"text-align: right;\">\n",
       "      <th></th>\n",
       "      <th>Unnamed: 0</th>\n",
       "      <th>Timestamp</th>\n",
       "      <th>Gmtoffset</th>\n",
       "      <th>Datetime</th>\n",
       "      <th>Open</th>\n",
       "      <th>High</th>\n",
       "      <th>Low</th>\n",
       "      <th>Close</th>\n",
       "      <th>Volume</th>\n",
       "      <th>ADX</th>\n",
       "      <th>+DI</th>\n",
       "      <th>-DI</th>\n",
       "      <th>prev_DI+</th>\n",
       "      <th>prev_DI-</th>\n",
       "    </tr>\n",
       "  </thead>\n",
       "  <tbody>\n",
       "    <tr>\n",
       "      <th>0</th>\n",
       "      <td>0</td>\n",
       "      <td>1609770600</td>\n",
       "      <td>0</td>\n",
       "      <td>2021-01-04 14:30:00</td>\n",
       "      <td>133.570007</td>\n",
       "      <td>133.611602</td>\n",
       "      <td>132.389999</td>\n",
       "      <td>132.809997</td>\n",
       "      <td>6624663.0</td>\n",
       "      <td>0.0</td>\n",
       "      <td>0.0</td>\n",
       "      <td>0.0</td>\n",
       "      <td>NaN</td>\n",
       "      <td>NaN</td>\n",
       "    </tr>\n",
       "    <tr>\n",
       "      <th>1</th>\n",
       "      <td>1</td>\n",
       "      <td>1609770900</td>\n",
       "      <td>0</td>\n",
       "      <td>2021-01-04 14:35:00</td>\n",
       "      <td>132.750000</td>\n",
       "      <td>132.750000</td>\n",
       "      <td>131.809997</td>\n",
       "      <td>131.889999</td>\n",
       "      <td>2541553.0</td>\n",
       "      <td>0.0</td>\n",
       "      <td>0.0</td>\n",
       "      <td>0.0</td>\n",
       "      <td>0.0</td>\n",
       "      <td>0.0</td>\n",
       "    </tr>\n",
       "    <tr>\n",
       "      <th>2</th>\n",
       "      <td>2</td>\n",
       "      <td>1609771200</td>\n",
       "      <td>0</td>\n",
       "      <td>2021-01-04 14:40:00</td>\n",
       "      <td>131.500000</td>\n",
       "      <td>132.339996</td>\n",
       "      <td>131.500000</td>\n",
       "      <td>132.059997</td>\n",
       "      <td>2492415.0</td>\n",
       "      <td>0.0</td>\n",
       "      <td>0.0</td>\n",
       "      <td>0.0</td>\n",
       "      <td>0.0</td>\n",
       "      <td>0.0</td>\n",
       "    </tr>\n",
       "    <tr>\n",
       "      <th>3</th>\n",
       "      <td>3</td>\n",
       "      <td>1609771500</td>\n",
       "      <td>0</td>\n",
       "      <td>2021-01-04 14:45:00</td>\n",
       "      <td>132.000000</td>\n",
       "      <td>132.250000</td>\n",
       "      <td>131.899993</td>\n",
       "      <td>132.250000</td>\n",
       "      <td>1859131.0</td>\n",
       "      <td>0.0</td>\n",
       "      <td>0.0</td>\n",
       "      <td>0.0</td>\n",
       "      <td>0.0</td>\n",
       "      <td>0.0</td>\n",
       "    </tr>\n",
       "    <tr>\n",
       "      <th>4</th>\n",
       "      <td>4</td>\n",
       "      <td>1609771800</td>\n",
       "      <td>0</td>\n",
       "      <td>2021-01-04 14:50:00</td>\n",
       "      <td>132.000000</td>\n",
       "      <td>132.018096</td>\n",
       "      <td>131.520004</td>\n",
       "      <td>131.589996</td>\n",
       "      <td>1780105.0</td>\n",
       "      <td>0.0</td>\n",
       "      <td>0.0</td>\n",
       "      <td>0.0</td>\n",
       "      <td>0.0</td>\n",
       "      <td>0.0</td>\n",
       "    </tr>\n",
       "  </tbody>\n",
       "</table>\n",
       "</div>"
      ],
      "text/plain": [
       "   Unnamed: 0   Timestamp  Gmtoffset             Datetime        Open  \\\n",
       "0           0  1609770600          0  2021-01-04 14:30:00  133.570007   \n",
       "1           1  1609770900          0  2021-01-04 14:35:00  132.750000   \n",
       "2           2  1609771200          0  2021-01-04 14:40:00  131.500000   \n",
       "3           3  1609771500          0  2021-01-04 14:45:00  132.000000   \n",
       "4           4  1609771800          0  2021-01-04 14:50:00  132.000000   \n",
       "\n",
       "         High         Low       Close     Volume  ADX  +DI  -DI  prev_DI+  \\\n",
       "0  133.611602  132.389999  132.809997  6624663.0  0.0  0.0  0.0       NaN   \n",
       "1  132.750000  131.809997  131.889999  2541553.0  0.0  0.0  0.0       0.0   \n",
       "2  132.339996  131.500000  132.059997  2492415.0  0.0  0.0  0.0       0.0   \n",
       "3  132.250000  131.899993  132.250000  1859131.0  0.0  0.0  0.0       0.0   \n",
       "4  132.018096  131.520004  131.589996  1780105.0  0.0  0.0  0.0       0.0   \n",
       "\n",
       "   prev_DI-  \n",
       "0       NaN  \n",
       "1       0.0  \n",
       "2       0.0  \n",
       "3       0.0  \n",
       "4       0.0  "
      ]
     },
     "execution_count": 11,
     "metadata": {},
     "output_type": "execute_result"
    }
   ],
   "source": [
    "data.head()"
   ]
  },
  {
   "cell_type": "markdown",
   "id": "79bd4fe1",
   "metadata": {},
   "source": [
    "### RSI"
   ]
  },
  {
   "cell_type": "code",
   "execution_count": 12,
   "id": "b6ed7621",
   "metadata": {},
   "outputs": [
    {
     "ename": "AttributeError",
     "evalue": "'DataFrame' object has no attribute 'RSI'",
     "output_type": "error",
     "traceback": [
      "\u001b[1;31m---------------------------------------------------------------------------\u001b[0m",
      "\u001b[1;31mAttributeError\u001b[0m                            Traceback (most recent call last)",
      "Cell \u001b[1;32mIn[12], line 7\u001b[0m\n\u001b[0;32m      1\u001b[0m fig, axs \u001b[38;5;241m=\u001b[39m plt\u001b[38;5;241m.\u001b[39msubplots(\u001b[38;5;241m2\u001b[39m, \u001b[38;5;241m1\u001b[39m, figsize \u001b[38;5;241m=\u001b[39m (\u001b[38;5;241m12\u001b[39m,\u001b[38;5;241m8\u001b[39m))\n\u001b[0;32m      4\u001b[0m axs[\u001b[38;5;241m0\u001b[39m]\u001b[38;5;241m.\u001b[39mplot(data\u001b[38;5;241m.\u001b[39mClose[:\u001b[38;5;241m214\u001b[39m])\n\u001b[1;32m----> 7\u001b[0m axs[\u001b[38;5;241m1\u001b[39m]\u001b[38;5;241m.\u001b[39mplot(data\u001b[38;5;241m.\u001b[39mRSI[:\u001b[38;5;241m214\u001b[39m])\n\u001b[0;32m      8\u001b[0m axs[\u001b[38;5;241m1\u001b[39m]\u001b[38;5;241m.\u001b[39mplot([\u001b[38;5;241m0\u001b[39m, \u001b[38;5;241m214\u001b[39m], [\u001b[38;5;241m70\u001b[39m,\u001b[38;5;241m70\u001b[39m], label \u001b[38;5;241m=\u001b[39m \u001b[38;5;124m\"\u001b[39m\u001b[38;5;124mUpper Threshold\u001b[39m\u001b[38;5;124m\"\u001b[39m)\n\u001b[0;32m      9\u001b[0m axs[\u001b[38;5;241m1\u001b[39m]\u001b[38;5;241m.\u001b[39mplot([\u001b[38;5;241m0\u001b[39m, \u001b[38;5;241m214\u001b[39m], [\u001b[38;5;241m30\u001b[39m,\u001b[38;5;241m30\u001b[39m], label \u001b[38;5;241m=\u001b[39m \u001b[38;5;124m\"\u001b[39m\u001b[38;5;124mUpper Threshold\u001b[39m\u001b[38;5;124m\"\u001b[39m)\n",
      "File \u001b[1;32m~\\anaconda3\\Lib\\site-packages\\pandas\\core\\generic.py:5902\u001b[0m, in \u001b[0;36mNDFrame.__getattr__\u001b[1;34m(self, name)\u001b[0m\n\u001b[0;32m   5895\u001b[0m \u001b[38;5;28;01mif\u001b[39;00m (\n\u001b[0;32m   5896\u001b[0m     name \u001b[38;5;129;01mnot\u001b[39;00m \u001b[38;5;129;01min\u001b[39;00m \u001b[38;5;28mself\u001b[39m\u001b[38;5;241m.\u001b[39m_internal_names_set\n\u001b[0;32m   5897\u001b[0m     \u001b[38;5;129;01mand\u001b[39;00m name \u001b[38;5;129;01mnot\u001b[39;00m \u001b[38;5;129;01min\u001b[39;00m \u001b[38;5;28mself\u001b[39m\u001b[38;5;241m.\u001b[39m_metadata\n\u001b[0;32m   5898\u001b[0m     \u001b[38;5;129;01mand\u001b[39;00m name \u001b[38;5;129;01mnot\u001b[39;00m \u001b[38;5;129;01min\u001b[39;00m \u001b[38;5;28mself\u001b[39m\u001b[38;5;241m.\u001b[39m_accessors\n\u001b[0;32m   5899\u001b[0m     \u001b[38;5;129;01mand\u001b[39;00m \u001b[38;5;28mself\u001b[39m\u001b[38;5;241m.\u001b[39m_info_axis\u001b[38;5;241m.\u001b[39m_can_hold_identifiers_and_holds_name(name)\n\u001b[0;32m   5900\u001b[0m ):\n\u001b[0;32m   5901\u001b[0m     \u001b[38;5;28;01mreturn\u001b[39;00m \u001b[38;5;28mself\u001b[39m[name]\n\u001b[1;32m-> 5902\u001b[0m \u001b[38;5;28;01mreturn\u001b[39;00m \u001b[38;5;28mobject\u001b[39m\u001b[38;5;241m.\u001b[39m\u001b[38;5;21m__getattribute__\u001b[39m(\u001b[38;5;28mself\u001b[39m, name)\n",
      "\u001b[1;31mAttributeError\u001b[0m: 'DataFrame' object has no attribute 'RSI'"
     ]
    },
    {
     "data": {
      "image/png": "[encoded data removed]",
      "text/plain": [
       "<Figure size 1200x800 with 2 Axes>"
      ]
     },
     "metadata": {},
     "output_type": "display_data"
    }
   ],
   "source": [
    "fig, axs = plt.subplots(2, 1, figsize = (12,8))\n",
    "\n",
    "\n",
    "axs[0].plot(data.Close[:214])\n",
    "\n",
    "\n",
    "axs[1].plot(data.RSI[:214])\n",
    "axs[1].plot([0, 214], [70,70], label = \"Upper Threshold\")\n",
    "axs[1].plot([0, 214], [30,30], label = \"Upper Threshold\")\n",
    "plt.legend()"
   ]
  },
  {
   "cell_type": "code",
   "execution_count": null,
   "id": "fc773862",
   "metadata": {},
   "outputs": [],
   "source": [
    "class Operation:\n",
    "    def __init__(self, operation_type, bought_at, timestamp, n_shares, stop_loss, take_profit):\n",
    "        self.operation_type = operation_type\n",
    "        self.bought_at = bought_at\n",
    "        self.timestamp = timestamp\n",
    "        self.n_shares = n_shares\n",
    "        self.sold_at = None\n",
    "        self.stop_loss = stop_loss\n",
    "        self.take_profit = take_profit\n",
    "\n",
    "cash = 1_000_000\n",
    "active_operations = []\n",
    "com = 0.00125\n",
    "strategy_value = [1_000_000]\n",
    "n_shares = 10\n",
    "\n",
    "for i, row in data.iterrows():\n",
    "    temp_operations = []\n",
    "    for op in active_operations:\n",
    "        if op.stop_loss > row.Close:\n",
    "            cash += row.Close * op.n_shares * (1 - com)  \n",
    "        elif op.take_profit < row.Close: # Close profit\n",
    "            cash += row.Close * op.n_shares *  (1 - com)\n",
    "        else:\n",
    "            temp_operations.append(op)\n",
    "    active_operations = temp_operations\n",
    "    \n",
    "    if cash > row.Close * n_shares * (1 + com):   \n",
    "        # Buy signal\n",
    "        if row.RSI < 30:\n",
    "            active_operations.append(Operation(operation_type = 'long', \n",
    "                                               bought_at = row.Close, \n",
    "                                               timestamp = row.Timestamp, \n",
    "                                               n_shares = n_shares,\n",
    "                                               stop_loss = row.Close * 0.95,\n",
    "                                               take_profit = row.Close * 1.05))\n",
    "            cash -= row.Close * n_shares *  (1 + com)\n",
    "            \n",
    "    else:\n",
    "        print('no money available..')\n",
    "    \n",
    "    total_value = len(active_operations) * row.Close * n_shares\n",
    "    strategy_value.append(cash + total_value)\n",
    "        \n",
    "        \n",
    "plt.figure(figsize = (12, 8))\n",
    "plt.plot(strategy_value)\n",
    "plt.title('RSI Trading Strategy')\n",
    "plt.show()"
   ]
  },
  {
   "cell_type": "markdown",
   "id": "9169ff7a",
   "metadata": {},
   "source": [
    "### SMA"
   ]
  },
  {
   "cell_type": "code",
   "execution_count": null,
   "id": "c6f691d1",
   "metadata": {},
   "outputs": [],
   "source": [
    "plt.figure(figsize = (12, 6))\n",
    "plt.plot(data.Close[:250], label = 'price')\n",
    "plt.plot(data.SHORT_SMA[:250], label = 'SAM(5)')\n",
    "plt.plot(data.LONG_SMA[:250], label = 'SMA(21)')"
   ]
  },
  {
   "cell_type": "code",
   "execution_count": null,
   "id": "43d5aa89",
   "metadata": {},
   "outputs": [],
   "source": [
    "cash = 1_000_000\n",
    "active_operations = []\n",
    "com = 0.00125\n",
    "strategy_value = [1_000_000]\n",
    "n_shares = 10\n",
    "\n",
    "sma_sell_signal = data.iloc[0].LONG_SMA > data.iloc[0].SHORT_SMA \n",
    "sma_buy_signal = data.iloc[0].LONG_SMA < data.iloc[0].SHORT_SMA\n",
    "\n",
    "\n",
    "for i, row in data.iterrows():\n",
    "    # Close operations\n",
    "    temp_operations = []\n",
    "    for op in active_operations:\n",
    "        # Close losing position\n",
    "        if op.stop_loss > row.Close:\n",
    "            cash += row.Close * op.n_shares * (1 - com)  \n",
    "        elif op.take_profit < row.Close: # Close profit\n",
    "            cash += row.Close * op.n_shares *  (1 - com)\n",
    "        else:\n",
    "            temp_operations.append(op)\n",
    "    active_operations = temp_operations\n",
    "    \n",
    "    if cash > row.Close * n_shares * (1 + com):   \n",
    "        # Buy signal\n",
    "        if (row.LONG_SMA < row.SHORT_SMA) and SMA_buy_signal == False:\n",
    "            SMA_buy_signal =True\n",
    "            #buy....\n",
    "            active_operations.append(Operation(operation_type = 'long', \n",
    "                                               bought_at = row.Close, \n",
    "                                               timestamp = row.Timestamp, \n",
    "                                               n_shares = n_shares,\n",
    "                                               stop_loss = row.Close * 0.95,\n",
    "                                               take_profit = row.Close * 1.05))\n",
    "            cash -= row.Close * n_shares *  (1 + com)\n",
    "            \n",
    "        elif row.LONG_SMA > row.SHORT_SMA:\n",
    "            SMA_buy_signal =False\n",
    "        \n",
    "            \n",
    "    else:\n",
    "        print('no money available..')\n",
    "    \n",
    "    total_value = len(active_operations) * row.Close * n_shares\n",
    "    strategy_value.append(cash + total_value)\n",
    "    \n",
    "    \n",
    "plt.figure(figsize = (12, 8))\n",
    "plt.plot(strategy_value)\n",
    "plt.title('SMA Trading Strategy')\n",
    "plt.show()"
   ]
  },
  {
   "cell_type": "code",
   "execution_count": null,
   "id": "93ada3fd",
   "metadata": {},
   "outputs": [],
   "source": [
    "cash = 1_000_000\n",
    "active_operations = []\n",
    "com = 0.00125\n",
    "strategy_value = [1_000_000]\n",
    "n_shares = 10\n",
    "\n",
    "for i, row in data.iterrows():\n",
    "    temp_operations = []\n",
    "    for op in active_operations:\n",
    "        if op.stop_loss > row.Close: \n",
    "            cash += row.Close * op.n_shares * (1 - com)\n",
    "        elif op.take_profit < row.Close:  \n",
    "            cash += row.Close * op.n_shares * (1 - com)\n",
    "        else:\n",
    "            temp_operations.append(op)\n",
    "    active_operations = temp_operations\n",
    "    \n",
    "    # Verificamos si tenemos suficiente efectivo\n",
    "    if cash > row.Close * n_shares * (1 + com):\n",
    "        # Señal de compra: la línea MACD cruza por encima de la línea de señal\n",
    "        prev_macd = data['MACD'].shift(1)[i]  # Valor MACD de la fila anterior\n",
    "        prev_signal = data['Signal_Line'].shift(1)[i]  # Valor de la línea de señal de la fila anterior\n",
    "        if row['MACD'] > row['Signal_Line'] and prev_macd < prev_signal:\n",
    "            active_operations.append(Operation(operation_type='long',\n",
    "                                                bought_at=row.Close,\n",
    "                                                timestamp=row.Timestamp,\n",
    "                                                n_shares=n_shares,\n",
    "                                                stop_loss=row.Close * 0.95,\n",
    "                                                take_profit=row.Close * 1.05))\n",
    "            cash -= row.Close * n_shares * (1 + com)\n",
    "    else:\n",
    "        print('no money available..')\n",
    "    \n",
    "    \n",
    "    total_value = len(active_operations) * row.Close * n_shares\n",
    "    strategy_value.append(cash + total_value)\n",
    "\n",
    "\n",
    "plt.figure(figsize=(12, 8))\n",
    "plt.plot(strategy_value)\n",
    "plt.title('MACD Trading Strategy')\n",
    "plt.show()"
   ]
  },
  {
   "cell_type": "code",
   "execution_count": null,
   "id": "64fd69d2",
   "metadata": {},
   "outputs": [],
   "source": [
    "cash = 1_000_000\n",
    "active_operations = []\n",
    "com = 0.00125\n",
    "strategy_value = [1_000_000]\n",
    "n_shares = 10\n",
    "data['prev_SAR'] = data['SAR'].shift(1)\n",
    "\n",
    "for index, row in data.iterrows():\n",
    "\n",
    "    temp_operations = []\n",
    "    for op in active_operations:\n",
    "        if op.stop_loss > row.Close or op.take_profit < row.Close:\n",
    "            cash += row.Close * op.n_shares * (1 - com)\n",
    "        else:\n",
    "            temp_operations.append(op)\n",
    "    active_operations = temp_operations\n",
    "\n",
    "    if cash > row.Close * n_shares * (1 + com):\n",
    "        # Señal de compra: puntos del SAR pasan de estar arriba a debajo del precio\n",
    "        if pd.notnull(row['prev_SAR']):  # Asegura que el valor previo de SAR no sea NaN\n",
    "            if row['SAR'] < row['Close'] and row['prev_SAR'] > row['Close']:\n",
    "                active_operations.append(Operation('long', row.Close, row.Timestamp, n_shares, row.Close * 0.95, row.Close * 1.05))\n",
    "                cash -= row.Close * n_shares * (1 + com)\n",
    "\n",
    "    \n",
    "    total_value = sum(op.n_shares * row.Close for op in active_operations)\n",
    "    strategy_value.append(cash + total_value)\n",
    "\n",
    "\n",
    "plt.figure(figsize=(12, 8))\n",
    "plt.plot(strategy_value)\n",
    "plt.title('SAR Parabólico Trading Strategy Performance')\n",
    "plt.show()"
   ]
  },
  {
   "cell_type": "code",
   "execution_count": null,
   "id": "80224f77",
   "metadata": {},
   "outputs": [],
   "source": [
    "\n",
    "data = data.dropna()\n",
    "\n",
    "cash = 1_000_000\n",
    "active_operations = []\n",
    "com = 0.00125\n",
    "strategy_value = [1_000_000]\n",
    "n_shares = 10\n",
    "\n",
    "for index, row in data.iterrows():\n",
    "    temp_operations = []\n",
    "    for op in active_operations:\n",
    "        if op.stop_loss > row.Close or op.take_profit < row.Close:\n",
    "            cash += row.Close * op.n_shares * (1 - com)\n",
    "        else:\n",
    "            temp_operations.append(op)\n",
    "    active_operations = temp_operations\n",
    "\n",
    "    if cash > row.Close * n_shares * (1 + com):\n",
    "        # Señal de compra\n",
    "        if pd.notnull(row['prev_DI+']) and pd.notnull(row['prev_DI-']):  # Verifica que los valores previos no sean NaN\n",
    "            if row['+DI'] > row['-DI'] and row['ADX'] > 25 and row['prev_DI+'] < row['prev_DI-']:\n",
    "                active_operations.append(Operation('long', row.Close, row.Timestamp, n_shares, row.Close * 0.95, row.Close * 1.05))\n",
    "                cash -= row.Close * n_shares * (1 + com)\n",
    "\n",
    "\n",
    "    total_value = sum(op.n_shares * row.Close for op in active_operations)\n",
    "    strategy_value.append(cash + total_value)\n",
    "\n",
    "\n",
    "plt.figure(figsize=(12, 8))\n",
    "plt.plot(strategy_value)\n",
    "plt.title('ADX Trading Strategy Performance')\n",
    "plt.show()"
   ]
  },
  {
   "cell_type": "code",
   "execution_count": null,
   "id": "e406299d",
   "metadata": {},
   "outputs": [],
   "source": []
  },
  {
   "cell_type": "code",
   "execution_count": null,
   "id": "692c8ee3",
   "metadata": {},
   "outputs": [],
   "source": []
  },
  {
   "cell_type": "code",
   "execution_count": null,
   "id": "b08bf64d",
   "metadata": {},
   "outputs": [],
   "source": []
  },
  {
   "cell_type": "code",
   "execution_count": null,
   "id": "2a7e5223",
   "metadata": {},
   "outputs": [],
   "source": []
  }
 ],
 "metadata": {
  "kernelspec": {
   "display_name": "Python 3 (ipykernel)",
   "language": "python",
   "name": "python3"
  },
  "language_info": {
   "codemirror_mode": {
    "name": "ipython",
    "version": 3
   },
   "file_extension": ".py",
   "mimetype": "text/x-python",
   "name": "python",
   "nbconvert_exporter": "python",
   "pygments_lexer": "ipython3",
   "version": "3.11.4"
  }
 },
 "nbformat": 4,
 "nbformat_minor": 5
}
